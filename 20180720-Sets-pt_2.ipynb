{
 "cells": [
  {
   "cell_type": "markdown",
   "metadata": {},
   "source": [
    "# Compound Data Types"
   ]
  },
  {
   "cell_type": "markdown",
   "metadata": {},
   "source": [
    "Our purpose here is to discuss the basic properties of compound data types in Python. In Python, it is helpful to consider what is \"built-in\" and what must be imported using an `import` statement. It is commonly accepted that Python's place in the contemporary scientific computing space is due in large part to `numpy` and its associated libraries -- the Python Numerical Stack -- all of which are not part of \"pure\" Python and must be imported. For the moment, however, let us set these aside and consider only that which is \"built-in\"."
   ]
  },
  {
   "cell_type": "markdown",
   "metadata": {},
   "source": [
    "Note: throughout we will make use of the `assert` statement. `assert` statements are written using the form \n",
    "\n",
    "```\n",
    "assert expression\n",
    "```\n",
    "\n",
    "or\n",
    "\n",
    "```\n",
    "assert expression, message\n",
    "```\n",
    "\n",
    "If `expression` evaluates to `True`, `assert` will do nothing. "
   ]
  },
  {
   "cell_type": "code",
   "execution_count": 1,
   "metadata": {},
   "outputs": [],
   "source": [
    "assert True"
   ]
  },
  {
   "cell_type": "markdown",
   "metadata": {},
   "source": [
    "If `expression` evaluates to false, `assert` will raise an `AssertionError` with `message`. Where we expect that to happen, it is best to \"catch\" this `AssertionError` and its associated error message using a `try-except` clause."
   ]
  },
  {
   "cell_type": "code",
   "execution_count": 2,
   "metadata": {
    "scrolled": true
   },
   "outputs": [
    {
     "name": "stdout",
     "output_type": "stream",
     "text": [
      "This is False!\n"
     ]
    }
   ],
   "source": [
    "try:\n",
    "    assert False, \"This is False!\"\n",
    "except AssertionError as error_message:\n",
    "    print(error_message)"
   ]
  },
  {
   "cell_type": "markdown",
   "metadata": {},
   "source": [
    "## The Set"
   ]
  },
  {
   "cell_type": "markdown",
   "metadata": {},
   "source": [
    "We might think of the `set` as the simplest **compound** datatype in Python. By compound we mean a single object that contains many values. In Python, a `set` is a single object containing many *unique* values."
   ]
  },
  {
   "cell_type": "code",
   "execution_count": 13,
   "metadata": {},
   "outputs": [
    {
     "data": {
      "text/plain": [
       "type"
      ]
     },
     "execution_count": 13,
     "metadata": {},
     "output_type": "execute_result"
    }
   ],
   "source": [
    "type(set)"
   ]
  },
  {
   "cell_type": "markdown",
   "metadata": {},
   "source": [
    "Mathematically speaking, a set is a collection of distinct (unique) object. This is essentially a statement of the two basic properties of a `set`: \n",
    "\n",
    "1. a `set` is composed of elements\n",
    "1. these elements are unique"
   ]
  },
  {
   "cell_type": "code",
   "execution_count": 14,
   "metadata": {},
   "outputs": [],
   "source": [
    "A = {a, b, 2.4, c}"
   ]
  },
  {
   "cell_type": "markdown",
   "metadata": {},
   "source": [
    "Thus, the following boolean expression is `True`"
   ]
  },
  {
   "cell_type": "code",
   "execution_count": 15,
   "metadata": {},
   "outputs": [],
   "source": [
    "assert 1 in A"
   ]
  },
  {
   "cell_type": "markdown",
   "metadata": {},
   "source": [
    "### Cardinality"
   ]
  },
  {
   "cell_type": "markdown",
   "metadata": {},
   "source": [
    "The number of members of a `set` is called its **cardinality**. Note that in defining the `set A` we listed four values, `a`, `b`, `2.4`, and `c`. But the cardinality of `A` is 3."
   ]
  },
  {
   "cell_type": "code",
   "execution_count": 16,
   "metadata": {},
   "outputs": [
    {
     "data": {
      "text/plain": [
       "3"
      ]
     },
     "execution_count": 16,
     "metadata": {},
     "output_type": "execute_result"
    }
   ],
   "source": [
    "len(A)"
   ]
  },
  {
   "cell_type": "markdown",
   "metadata": {},
   "source": [
    "Recall that `b` has the value `2.4`."
   ]
  },
  {
   "cell_type": "code",
   "execution_count": 17,
   "metadata": {},
   "outputs": [
    {
     "data": {
      "text/plain": [
       "2.4"
      ]
     },
     "execution_count": 17,
     "metadata": {},
     "output_type": "execute_result"
    }
   ],
   "source": [
    "b"
   ]
  },
  {
   "cell_type": "markdown",
   "metadata": {},
   "source": [
    "Thus, in displaying the contents of the set `A`, we note that the repeated value `2.4` (which is also the value associated with `b`) is included but once. An element can only be a member of a set once."
   ]
  },
  {
   "cell_type": "code",
   "execution_count": 18,
   "metadata": {},
   "outputs": [
    {
     "data": {
      "text/plain": [
       "{(3+3j), 1, 2.4}"
      ]
     },
     "execution_count": 18,
     "metadata": {},
     "output_type": "execute_result"
    }
   ],
   "source": [
    "A"
   ]
  },
  {
   "cell_type": "markdown",
   "metadata": {},
   "source": [
    "## Building Sets"
   ]
  },
  {
   "cell_type": "markdown",
   "metadata": {},
   "source": [
    "Mathematically, we can build a set in three ways:\n",
    "\n",
    "1. By explicitly listing its members. \n",
    "\n",
    "   To indicate that a collection is a set, we use curly braces, so that the set of the numbers 1, 3, and 5 is written\n",
    "\n",
    "   $$\\{1, 3, 5\\}$$\n",
    "   \n",
    "2. By giving a property that the members have. An example is “the set of odd positive numbers less than 100”. We could express that phrase as\n",
    "\n",
    "   $$\\{ n │ 0 < n < 100 \\text{ and }n\\text{ is odd }\\}$$\n",
    "\n",
    "   Here the vertical bar “│” is read as “such that”.\n",
    "\n",
    "   The property selects members from some larger “base” set. That set may be given explicitly as part of the definition:\n",
    "\n",
    "   $$\\{ n │ n\\text{ is an integer and }0 < n < 100\\text{ and }n\\text{ is odd} \\}$$\n",
    "\n",
    "   Or the base set may be left implicit; it may be defined by context, or we may be meant to assume that it is the universal set.\n",
    "\n",
    "3. By forming the set from other sets using operators, like the union, intersection, and difference operators."
   ]
  },
  {
   "cell_type": "markdown",
   "metadata": {},
   "source": [
    "### The Roster Method"
   ]
  },
  {
   "cell_type": "markdown",
   "metadata": {},
   "source": [
    "When we can define a set by enumerating or listing its elements, this is called **roster method**.\n",
    "\n",
    "For example, we might have the set containing the numbers 4, 15, 21, and 37. Mathematically, we would describe this as \n",
    "\n",
    "$$\\{15, 4, 37, 21\\}$$\n",
    "\n",
    "It is worth noting that we have written the numbers in a different order here. This is fine because sets do not have an inherent order."
   ]
  },
  {
   "cell_type": "code",
   "execution_count": 3,
   "metadata": {},
   "outputs": [],
   "source": [
    "B = {15, 4, 37, 21}"
   ]
  },
  {
   "cell_type": "markdown",
   "metadata": {},
   "source": [
    "We can show that this is true in Python "
   ]
  },
  {
   "cell_type": "code",
   "execution_count": 4,
   "metadata": {},
   "outputs": [],
   "source": [
    "assert {4,15,21,37} == B"
   ]
  },
  {
   "cell_type": "markdown",
   "metadata": {},
   "source": [
    "### Set-Builder Notation\n",
    "\n",
    "When we build a set in this way\n",
    "\n",
    "$$\\{ n │ 0 < n < 10 \\text{ and }n\\text{ is odd }\\}$$\n",
    "\n",
    "this is known as building a set with **Set-builder notation**. Set-builder notation is a notation used for describing a set by enumerating its elements or stating the properties that its members must satisfy. "
   ]
  },
  {
   "cell_type": "code",
   "execution_count": 2,
   "metadata": {},
   "outputs": [
    {
     "data": {
      "text/plain": [
       "{1, 3, 5, 7, 9}"
      ]
     },
     "execution_count": 2,
     "metadata": {},
     "output_type": "execute_result"
    }
   ],
   "source": [
    "{n for n in range(10) if n%2 == 1}"
   ]
  },
  {
   "cell_type": "markdown",
   "metadata": {},
   "source": [
    "### Defining Sets by Operator"
   ]
  },
  {
   "cell_type": "markdown",
   "metadata": {},
   "source": [
    "We can also expand the definition of a set by using operators like unions."
   ]
  },
  {
   "cell_type": "markdown",
   "metadata": {},
   "source": [
    "Suppose we have \n",
    "\n",
    "$$B = \\{15, 4, 37, 21\\}$$\n",
    "\n",
    "we might define a new set \n",
    "\n",
    "$$C = \\{15, 4, 37, 21\\}\\cup\\{12\\}$$"
   ]
  },
  {
   "cell_type": "markdown",
   "metadata": {},
   "source": [
    "In Python we might do the following"
   ]
  },
  {
   "cell_type": "code",
   "execution_count": 5,
   "metadata": {},
   "outputs": [
    {
     "data": {
      "text/plain": [
       "{4, 12, 15, 21, 37}"
      ]
     },
     "execution_count": 5,
     "metadata": {},
     "output_type": "execute_result"
    }
   ],
   "source": [
    "C = B.union({12})\n",
    "C"
   ]
  },
  {
   "cell_type": "markdown",
   "metadata": {},
   "source": [
    "### Connecting Unions to Set-Builder Notation"
   ]
  },
  {
   "cell_type": "markdown",
   "metadata": {},
   "source": [
    "We might also imagine doing this programmatically, iterating over another set"
   ]
  },
  {
   "cell_type": "code",
   "execution_count": 5,
   "metadata": {},
   "outputs": [
    {
     "data": {
      "text/plain": [
       "{4, 12, 15, 21, 25, 37, 39}"
      ]
     },
     "execution_count": 5,
     "metadata": {},
     "output_type": "execute_result"
    }
   ],
   "source": [
    "B = {15, 4, 37, 21}\n",
    "for el in {12,25,39}:\n",
    "    B = B.union({el})\n",
    "B    "
   ]
  },
  {
   "cell_type": "markdown",
   "metadata": {},
   "source": [
    "This becomes more interesting when have a clear pattern for the set over which we are iterating. Suppose we have the set \n",
    "\n",
    "$$D = \\{1,2,3,4,5,6,7,8,9,10\\}$$\n",
    "\n",
    "and we are interested in using this set to build a new set \n",
    "\n",
    "$$E = \\{3,5,7,9,11,13,15,17,19,21\\}$$"
   ]
  },
  {
   "cell_type": "code",
   "execution_count": 14,
   "metadata": {},
   "outputs": [
    {
     "data": {
      "text/plain": [
       "{3, 5, 7, 9, 11, 13, 15, 17, 19, 21}"
      ]
     },
     "execution_count": 14,
     "metadata": {},
     "output_type": "execute_result"
    }
   ],
   "source": [
    "D = {1,2,3,4,5,6,7,8,9,10}\n",
    "E = set()\n",
    "for el in my_set:\n",
    "    E = E.union({2*el+1})\n",
    "E        "
   ]
  },
  {
   "cell_type": "markdown",
   "metadata": {},
   "source": [
    "Here, we took note of the pattern that existed between the two sets, namely that for each element, $x$ in the first set, the second set contains the corresponding value for $2x+1$."
   ]
  },
  {
   "cell_type": "markdown",
   "metadata": {},
   "source": [
    "Mathematically, rather than listing the roster of $D$, we can define the new set by a predicate. We can define $E$ as\n",
    "\n",
    "$$E = \\{2x+1 \\mid x \\in D \\}$$\n",
    "\n",
    "Which can be read as $E$ is the set containing the elements $2x+1$ where $x$ is each element in the set $D$."
   ]
  },
  {
   "cell_type": "markdown",
   "metadata": {},
   "source": [
    "In Python, we have a similar method for defining well-structured sets. We did so above using a `for`-loop. We can also do this using a **set comprehension**."
   ]
  },
  {
   "cell_type": "code",
   "execution_count": 16,
   "metadata": {},
   "outputs": [
    {
     "data": {
      "text/plain": [
       "{3, 5, 7, 9, 11, 13, 15, 17, 19, 21}"
      ]
     },
     "execution_count": 16,
     "metadata": {},
     "output_type": "execute_result"
    }
   ],
   "source": [
    "D = {1,2,3,4,5,6,7,8,9,10}\n",
    "E = {2*x+1 for x in D}\n",
    "E"
   ]
  },
  {
   "cell_type": "markdown",
   "metadata": {},
   "source": [
    "Make note of how the set comprehension syntax mirrors describing a set via predicate in math notation. "
   ]
  },
  {
   "cell_type": "markdown",
   "metadata": {},
   "source": [
    "## Case Study: finding students for jobs"
   ]
  },
  {
   "cell_type": "markdown",
   "metadata": {},
   "source": [
    "Suppose that a company is recruiting students at a university to give them jobs after they graduate, and suppose that the company wants to interview fourth-year students who are either computer science or electrical engineering students and who have a grade average of B or better."
   ]
  },
  {
   "cell_type": "markdown",
   "metadata": {},
   "source": [
    "Let's also suppose that the university has data files that will help us find such students. The file `cs` contains the names of all the computer science students, and the file `ee` contains the names of all the electrical engineering students. The file `year4` contains the names of all the students who are in their fourth year of study, and the file `goodGrades` contains the names of all the students with a grade average of B or better."
   ]
  },
  {
   "cell_type": "markdown",
   "metadata": {},
   "source": [
    "Let's see how we can find the names of all the appropriate students. This is a very easy programming problem, but let's try to find the very best solution that we can. We'll start by showing how a beginning programmer might approach the problem, and then show how the solution changes as we apply progressively more of the ideas that we have seen so far in this book."
   ]
  },
  {
   "cell_type": "markdown",
   "metadata": {},
   "source": [
    "Very early in their programming careers, beginners learn a stereotyped structure for a program:\n",
    "\n",
    "1. Read all the inputs.\n",
    "2. Do the computation.\n",
    "3. Display the results.\n"
   ]
  },
  {
   "cell_type": "markdown",
   "metadata": {},
   "source": [
    "<!-- \n",
    "import random\n",
    "names = [\"THOMAS\",\"REBECCA\",\"JAMES\",\"LAUREN\",\"JACK\",\"JESSICA\",\"DANIEL\",\"CHARLOTTE\",\"MATTHEW\",\"HANNAH\",\"RYAN\",\"SOPHIE\",\"JOSHUA\",\"AMY\",\"LUKE\",\"EMILY\",\"SAMUEL\",\"LAURA\",\"JORDAN\",\"EMMA\",\"ADAM\",\"CHLOE\",\"MICHAEL\",\"SARAH\",\"ALEXANDER\",\"LUCY\",\"CHRISTOPHER\",\"KATIE\",\"BENJAMIN\",\"BETHANY\",\"JOSEPH\",\"JADE\",\"LIAM\",\"MEGAN\",\"JAKE\",\"ALICE\",\"WILLIAM\",\"RACHEL\",\"ANDREW\",\"SAMANTHA\",\"GEORGE\",\"DANIELLE\",\"LEWIS\",\"HOLLY\",\"OLIVER\",\"ABIGAIL\",\"DAVID\",\"OLIVIA\",\"ROBERT\",\"STEPHANIE\",\"JAMIE\",\"ELIZABETH\",\"NATHAN\",\"VICTORIA\",\"CONNOR\",\"NATASHA\",\"JONATHAN\",\"GEORGIA\",\"HARRY\",\"ZOE\",\"CALLUM\",\"NATALIE\",\"AARON\",\"ELEANOR\",\"ASHLEY\",\"SHANNON\",\"BRADLEY\",\"PAIGE\",\"JACOB\",\"GEORGINA\",\"KIERAN\",\"GEMMA\",\"SCOTT\",\"NICOLE\",\"SAM\",\"CHELSEA\",\"JOHN\",\"KIRSTY\",\"BEN\",\"ALEXANDRA\",\"MOHAMMED\",\"MELISSA\",\"NICHOLAS\",\"JENNIFER\",\"KYLE\",\"HAYLEY\",\"CHARLES\",\"LOUISE\",\"MARK\",\"KATHERINE\",\"SEAN\",\"JODIE\",\"EDWARD\",\"GRACE\",\"STEPHEN\",\"ANNA\",\"RICHARD\",\"MOLLY\",\"ALEX\",\"AMBER\",\"PETER\",\"JASMINE\",\"DOMINIC\",\"KAYLEIGH\",\"JOE\",\"KELLY\",\"REECE\",\"HARRIET\",\"LEE\",\"ASHLEIGH\",\"RHYS\",\"CATHERINE\",\"STEVEN\",\"LEAH\",\"ANTHONY\",\"NICOLA\",\"CHARLIE\",\"FRANCESCA\",\"PAUL\",\"NAOMI\",\"CRAIG\",\"KATE\",\"JASON\",\"ABBIE\",\"DALE\",\"CLAIRE\",\"ROSS\",\"LEANNE\",\"CAMERON\",\"RACHAEL\",\"LOUIS\",\"ROSIE\",\"DEAN\",\"AIMEE\",\"CONOR\",\"ELLIE\",\"SHANE\",\"SIAN\",\"ELLIOT\",\"KIMBERLEY\",\"PATRICK\",\"LYDIA\",\"MAX\",\"HOLLIE\",\"SHAUN\",\"STACEY\",\"HENRY\",\"BETHAN\",\"SIMON\",\"AMELIA\",\"TIMOTHY\",\"BETH\",\"MITCHELL\",\"KATHRYN\",\"BILLY\",\"HEATHER\",\"PHILIP\",\"LISA\",\"JOEL\",\"HELEN\",\"JOSH\",\"ELLA\",\"MARCUS\",\"ROBYN\",\"DYLAN\",\"CHANTELLE\",\"CARL\",\"ELLEN\",\"ELLIOTT\",\"DAISY\",\"BRANDON\",\"DEMI\",\"MARTIN\",\"COURTNEY\",\"TOBY\",\"GABRIELLE\",\"STUART\",\"YASMIN\",\"GARETH\",\"LILY\",\"DANNY\",\"RHIANNON\",\"CHRISTIAN\",\"MARIA\",\"TOM\",\"KERRY\",\"DECLAN\",\"IMOGEN\",\"KARL\",\"REBEKAH\",\"MOHAMMAD\",\"JORDAN\",\"MATHEW\",\"JOANNA\",\"JAY\",\"CAITLIN\",\"OWEN\",\"JEMMA\",\"DARREN\",\"TONI\"]\n",
    "\n",
    "year4 = random.sample(names, 45)\n",
    "cs = random.sample(names, 85)\n",
    "ee = random.sample(set(names) - set(cs), 45)\n",
    "goodGrades = random.sample(names, 135)\n",
    "with open('year4.txt', 'a') as the_file:\n",
    "    for name in year4:\n",
    "        the_file.write('{}\\n'.format(name))\n",
    "with open('cs.txt', 'a') as the_file:\n",
    "    for name in cs:\n",
    "        the_file.write('{}\\n'.format(name))\n",
    "with open('ee.txt', 'a') as the_file:\n",
    "    for name in ee:\n",
    "        the_file.write('{}\\n'.format(name))\n",
    "with open('goodGrades.txt', 'a') as the_file:\n",
    "    for name in goodGrades:\n",
    "        the_file.write('{}\\n'.format(name))\n",
    "-->"
   ]
  },
  {
   "cell_type": "markdown",
   "metadata": {},
   "source": [
    "### Read the Inputs\n",
    "\n",
    "So let's first consider the task of reading all the inputs. Let's use a for-loop."
   ]
  },
  {
   "cell_type": "code",
   "execution_count": 17,
   "metadata": {},
   "outputs": [
    {
     "data": {
      "text/plain": [
       "['LEANNE', 'DAVID', 'DANNY', 'AARON', 'BRADLEY']"
      ]
     },
     "execution_count": 17,
     "metadata": {},
     "output_type": "execute_result"
    }
   ],
   "source": [
    "with open('year4.txt', 'r') as the_file:\n",
    "    year4 = [ ]\n",
    "    for line in the_file:\n",
    "        year4.append(line.strip())\n",
    "year4[:5]"
   ]
  },
  {
   "cell_type": "markdown",
   "metadata": {},
   "source": [
    "We don't need to do all that. This kind of computation is exactly what a list comprehension is meant for."
   ]
  },
  {
   "cell_type": "code",
   "execution_count": 19,
   "metadata": {},
   "outputs": [
    {
     "data": {
      "text/plain": [
       "['SHANE', 'CONOR', 'HELEN', 'NICOLE', 'CALLUM']"
      ]
     },
     "execution_count": 19,
     "metadata": {},
     "output_type": "execute_result"
    }
   ],
   "source": [
    "year4      = [ line.strip() for line in open(\"year4.txt\") ]\n",
    "cs         = [ line.strip() for line in open(\"cs.txt\") ]\n",
    "ee         = [ line.strip() for line in open(\"ee.txt\") ]\n",
    "goodGrades = [ line.strip() for line in open(\"goodGrades.txt\") ]\n",
    "ee[:5]"
   ]
  },
  {
   "cell_type": "markdown",
   "metadata": {},
   "source": [
    "### Do the Computation\n",
    "\n",
    "Now that we have all the data in data structures in the program, we can proceed with the main computation. The statement of our problem asks us to find \n",
    "\n",
    "> “fourth-year students who are either computer science or electrical engineering students and who have a grade average of B or better”. \n",
    "\n",
    "Here is one obvious way to translate that requirement into Python:"
   ]
  },
  {
   "cell_type": "code",
   "execution_count": 20,
   "metadata": {},
   "outputs": [
    {
     "data": {
      "text/plain": [
       "['JASMINE',\n",
       " 'CALLUM',\n",
       " 'DALE',\n",
       " 'SHAUN',\n",
       " 'KAYLEIGH',\n",
       " 'REECE',\n",
       " 'SHANNON',\n",
       " 'CLAIRE',\n",
       " 'ASHLEY',\n",
       " 'RACHAEL',\n",
       " 'BEN',\n",
       " 'ELLIE',\n",
       " 'HARRY',\n",
       " 'ALEX',\n",
       " 'JENNIFER',\n",
       " 'DOMINIC',\n",
       " 'SHAUN',\n",
       " 'DALE',\n",
       " 'MARTIN',\n",
       " 'SHANE',\n",
       " 'AIMEE',\n",
       " 'CHANTELLE',\n",
       " 'GEORGE',\n",
       " 'PETER',\n",
       " 'JAKE',\n",
       " 'LAURA',\n",
       " 'ELIZABETH']"
      ]
     },
     "execution_count": 20,
     "metadata": {},
     "output_type": "execute_result"
    }
   ],
   "source": [
    "candidates = [ ]\n",
    "for student in year4:\n",
    "    if ((student in cs or student in ee) \n",
    "         and student in goodGrades):\n",
    "        candidates.append(student)\n",
    "candidates    "
   ]
  },
  {
   "cell_type": "markdown",
   "metadata": {},
   "source": [
    "We can do the same computation more efficiently using sets. \n",
    "\n",
    "The computation does most of its work with the in operator, which Python can do more efficiently on sets than on lists. We'll need to change our code that reads input so that it creates sets instead of lists."
   ]
  },
  {
   "cell_type": "code",
   "execution_count": 23,
   "metadata": {},
   "outputs": [
    {
     "data": {
      "text/plain": [
       "set"
      ]
     },
     "execution_count": 23,
     "metadata": {},
     "output_type": "execute_result"
    }
   ],
   "source": [
    "year4      = { line.strip() for line in open(\"year4.txt\") }\n",
    "cs         = { line.strip() for line in open(\"cs.txt\") }\n",
    "ee         = { line.strip() for line in open(\"ee.txt\") }\n",
    "goodGrades = { line.strip() for line in open(\"goodGrades.txt\") }\n",
    "type(ee)"
   ]
  },
  {
   "cell_type": "code",
   "execution_count": 24,
   "metadata": {},
   "outputs": [
    {
     "data": {
      "text/plain": [
       "{'AIMEE',\n",
       " 'ALEX',\n",
       " 'ASHLEY',\n",
       " 'BEN',\n",
       " 'CALLUM',\n",
       " 'CHANTELLE',\n",
       " 'CLAIRE',\n",
       " 'DALE',\n",
       " 'DOMINIC',\n",
       " 'ELIZABETH',\n",
       " 'ELLIE',\n",
       " 'GEORGE',\n",
       " 'HARRY',\n",
       " 'JAKE',\n",
       " 'JASMINE',\n",
       " 'JENNIFER',\n",
       " 'KAYLEIGH',\n",
       " 'LAURA',\n",
       " 'MARTIN',\n",
       " 'PETER',\n",
       " 'RACHAEL',\n",
       " 'REECE',\n",
       " 'SHANE',\n",
       " 'SHANNON',\n",
       " 'SHAUN'}"
      ]
     },
     "execution_count": 24,
     "metadata": {},
     "output_type": "execute_result"
    }
   ],
   "source": [
    "candidates = set()\n",
    "for student in year4:\n",
    "    if ((student in cs or student in ee) \n",
    "         and student in goodGrades):\n",
    "        candidates.add(student)\n",
    "candidates    "
   ]
  },
  {
   "cell_type": "markdown",
   "metadata": {},
   "source": [
    "We don't need to do all that. We don't need to initialize a data structure and then add values to it one at a time: we can use a comprehension."
   ]
  },
  {
   "cell_type": "code",
   "execution_count": 26,
   "metadata": {},
   "outputs": [
    {
     "data": {
      "text/plain": [
       "{'AIMEE',\n",
       " 'ALEX',\n",
       " 'ASHLEY',\n",
       " 'BEN',\n",
       " 'CALLUM',\n",
       " 'CHANTELLE',\n",
       " 'CLAIRE',\n",
       " 'DALE',\n",
       " 'DOMINIC',\n",
       " 'ELIZABETH',\n",
       " 'ELLIE',\n",
       " 'GEORGE',\n",
       " 'HARRY',\n",
       " 'JAKE',\n",
       " 'JASMINE',\n",
       " 'JENNIFER',\n",
       " 'KAYLEIGH',\n",
       " 'LAURA',\n",
       " 'MARTIN',\n",
       " 'PETER',\n",
       " 'RACHAEL',\n",
       " 'REECE',\n",
       " 'SHANE',\n",
       " 'SHANNON',\n",
       " 'SHAUN'}"
      ]
     },
     "execution_count": 26,
     "metadata": {},
     "output_type": "execute_result"
    }
   ],
   "source": [
    "candidates = { student for student in year4\n",
    "               if (student in cs or student in ee) \n",
    "               and student in goodGrades }\n",
    "candidates"
   ]
  },
  {
   "cell_type": "code",
   "execution_count": null,
   "metadata": {},
   "outputs": [],
   "source": [
    "we don't even need to do all that. Now that we have all our names in sets, why not just use set operations instead?"
   ]
  }
 ],
 "metadata": {
  "kernelspec": {
   "display_name": "Python 3",
   "language": "python",
   "name": "python3"
  },
  "language_info": {
   "codemirror_mode": {
    "name": "ipython",
    "version": 3
   },
   "file_extension": ".py",
   "mimetype": "text/x-python",
   "name": "python",
   "nbconvert_exporter": "python",
   "pygments_lexer": "ipython3",
   "version": "3.6.4"
  }
 },
 "nbformat": 4,
 "nbformat_minor": 2
}
