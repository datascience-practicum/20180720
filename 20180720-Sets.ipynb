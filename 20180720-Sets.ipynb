{
 "cells": [
  {
   "cell_type": "markdown",
   "metadata": {},
   "source": [
    "# Compound Data Types"
   ]
  },
  {
   "cell_type": "markdown",
   "metadata": {},
   "source": [
    "Our purpose here is to discuss the basic properties of compound data types in Python. In Python, it is helpful to consider what is \"built-in\" and what must be imported using an `import` statement. It is commonly accepted that Python's place in the contemporary scientific computing space is due in large part to `numpy` and its associated libraries -- the Python Numerical Stack -- all of which are not part of \"pure\" Python and must be imported. For the moment, however, let us set these aside and consider only that which is \"built-in\"."
   ]
  },
  {
   "cell_type": "markdown",
   "metadata": {},
   "source": [
    "Note: throughout we will make use of the `assert` statement. `assert` statements are written using the form \n",
    "\n",
    "```\n",
    "assert expression\n",
    "```\n",
    "\n",
    "or\n",
    "\n",
    "```\n",
    "assert expression, message\n",
    "```\n",
    "\n",
    "If `expression` evaluates to `True`, `assert` will do nothing. "
   ]
  },
  {
   "cell_type": "code",
   "execution_count": 1,
   "metadata": {},
   "outputs": [],
   "source": [
    "assert True"
   ]
  },
  {
   "cell_type": "markdown",
   "metadata": {},
   "source": [
    "If `expression` evaluates to false, `assert` will raise an `AssertionError` with `message`. Where we expect that to happen, it is best to \"catch\" this `AssertionError` and its associated error message using a `try-except` clause."
   ]
  },
  {
   "cell_type": "code",
   "execution_count": 2,
   "metadata": {
    "scrolled": true
   },
   "outputs": [
    {
     "name": "stdout",
     "output_type": "stream",
     "text": [
      "This is False!\n"
     ]
    }
   ],
   "source": [
    "try:\n",
    "    assert False, \"This is False!\"\n",
    "except AssertionError as error_message:\n",
    "    print(error_message)"
   ]
  },
  {
   "cell_type": "markdown",
   "metadata": {},
   "source": [
    "## Constants"
   ]
  },
  {
   "cell_type": "markdown",
   "metadata": {},
   "source": [
    "There are a handful of values which simply exist as constants. For now, we need only these three:\n",
    "\n",
    "- `False`\n",
    "- `True`\n",
    "- `None`\n",
    "\n",
    "There is a strong intuition for the meaning of each of these. For example, it should be clear that `False` and `True` are opposites of each other. "
   ]
  },
  {
   "cell_type": "code",
   "execution_count": 3,
   "metadata": {
    "scrolled": true
   },
   "outputs": [],
   "source": [
    "assert False != True"
   ]
  },
  {
   "cell_type": "markdown",
   "metadata": {},
   "source": [
    "It is also clear that `None` and `False` are not the same thing."
   ]
  },
  {
   "cell_type": "code",
   "execution_count": 4,
   "metadata": {},
   "outputs": [],
   "source": [
    "assert False != None"
   ]
  },
  {
   "cell_type": "code",
   "execution_count": 5,
   "metadata": {},
   "outputs": [],
   "source": [
    "assert None is not False"
   ]
  },
  {
   "cell_type": "markdown",
   "metadata": {},
   "source": [
    "Less intuitive is the way `None` is interpreted in a conditional check."
   ]
  },
  {
   "cell_type": "code",
   "execution_count": 6,
   "metadata": {},
   "outputs": [
    {
     "name": "stdout",
     "output_type": "stream",
     "text": [
      "This is False!\n"
     ]
    }
   ],
   "source": [
    "try:\n",
    "    assert None, \"This is False!\"\n",
    "except AssertionError as error_message:\n",
    "    print(error_message)"
   ]
  },
  {
   "cell_type": "code",
   "execution_count": 7,
   "metadata": {},
   "outputs": [],
   "source": [
    "assert not None"
   ]
  },
  {
   "cell_type": "markdown",
   "metadata": {},
   "source": [
    "So while `None` is not `False`, it is interpreted as `False` in some contexts. This may seem a bit arbitrary. Rest assured that `None` equating to `False` will always behave the same way and this behavior should be intuitive."
   ]
  },
  {
   "cell_type": "markdown",
   "metadata": {},
   "source": [
    "## Numeric Types"
   ]
  },
  {
   "cell_type": "markdown",
   "metadata": {},
   "source": [
    "While these constants will only ever have a single, immutable or non-changing value, numeric types can be changed, that is they are mutable, and can take on a range of values."
   ]
  },
  {
   "cell_type": "markdown",
   "metadata": {},
   "source": [
    "Let us assign **value** to a few variables using the assignment operator `=`. "
   ]
  },
  {
   "cell_type": "code",
   "execution_count": 8,
   "metadata": {},
   "outputs": [],
   "source": [
    "a = 1\n",
    "b = 2.4\n",
    "c = 3 + 3j"
   ]
  },
  {
   "cell_type": "markdown",
   "metadata": {},
   "source": [
    "Note that we have not specified the type of each variable prior to assignment. In Python, this is not done, as it is in many other programming languages."
   ]
  },
  {
   "cell_type": "code",
   "execution_count": 9,
   "metadata": {},
   "outputs": [
    {
     "data": {
      "text/plain": [
       "(1, 2.4, (3+3j))"
      ]
     },
     "execution_count": 9,
     "metadata": {},
     "output_type": "execute_result"
    }
   ],
   "source": [
    "a, b, c"
   ]
  },
  {
   "cell_type": "markdown",
   "metadata": {},
   "source": [
    "In spite of not having specified a type for each variable, Python was able to correctly infer the type. "
   ]
  },
  {
   "cell_type": "code",
   "execution_count": 10,
   "metadata": {},
   "outputs": [
    {
     "data": {
      "text/plain": [
       "(int, float, complex)"
      ]
     },
     "execution_count": 10,
     "metadata": {},
     "output_type": "execute_result"
    }
   ],
   "source": [
    "type(a), type(b), type(c)"
   ]
  },
  {
   "cell_type": "markdown",
   "metadata": {},
   "source": [
    "It is worth considering for a moment that these variables are displayed from most restrictive to least restrictive data type. In other words, we can turn `a` into a `float`, but can not turn `b` into an `int`, without losing information."
   ]
  },
  {
   "cell_type": "code",
   "execution_count": 11,
   "metadata": {},
   "outputs": [
    {
     "data": {
      "text/plain": [
       "(1.0, 2)"
      ]
     },
     "execution_count": 11,
     "metadata": {},
     "output_type": "execute_result"
    }
   ],
   "source": [
    "float(a), int(b)"
   ]
  },
  {
   "cell_type": "markdown",
   "metadata": {},
   "source": [
    "And Python will simply complain if we try to change `c`."
   ]
  },
  {
   "cell_type": "code",
   "execution_count": 12,
   "metadata": {},
   "outputs": [
    {
     "name": "stdout",
     "output_type": "stream",
     "text": [
      "can't convert complex to float\n"
     ]
    }
   ],
   "source": [
    "try:\n",
    "    float(c)\n",
    "except TypeError as error_message:\n",
    "    print(error_message)"
   ]
  },
  {
   "cell_type": "markdown",
   "metadata": {},
   "source": [
    "## The Set"
   ]
  },
  {
   "cell_type": "markdown",
   "metadata": {},
   "source": [
    "We might think of the `set` as the simplest **compound** datatype in Python. By compound we mean a single object that contains many values. In Python, a `set` is a single object containing many *unique* values.\n",
    "\n",
    "The `set` type was not always a part of Python. The Python Enhancement Proposal or PEP proposing to add the `set` type can be read here: https://www.python.org/dev/peps/pep-0218/"
   ]
  },
  {
   "cell_type": "code",
   "execution_count": 13,
   "metadata": {},
   "outputs": [
    {
     "data": {
      "text/plain": [
       "type"
      ]
     },
     "execution_count": 13,
     "metadata": {},
     "output_type": "execute_result"
    }
   ],
   "source": [
    "type(set)"
   ]
  },
  {
   "cell_type": "markdown",
   "metadata": {},
   "source": [
    "Mathematically speaking, a set is a collection of distinct (unique) object. This is essentially a statement of the two basic properties of a `set`: \n",
    "\n",
    "1. a `set` is composed of elements\n",
    "1. these elements are unique"
   ]
  },
  {
   "cell_type": "code",
   "execution_count": 14,
   "metadata": {},
   "outputs": [],
   "source": [
    "A = {a, b, 2.4, c}"
   ]
  },
  {
   "cell_type": "markdown",
   "metadata": {},
   "source": [
    "Thus, the following boolean expression is `True`"
   ]
  },
  {
   "cell_type": "code",
   "execution_count": 15,
   "metadata": {},
   "outputs": [],
   "source": [
    "assert 1 in A"
   ]
  },
  {
   "cell_type": "markdown",
   "metadata": {},
   "source": [
    "Another way to say `1 in A` is to say that 1 is an **element** of `A`\n",
    "\n",
    "$$1\\in A$$\n",
    "\n",
    "Of note is the $\\LaTeX$ expression used to display this\n",
    "\n",
    "```\n",
    "$$1 \\in A$$\n",
    "```\n",
    "\n",
    "as this connects the idea of membership across multiple languages (Python, $\\LaTeX$) and paradigms (computational, mathematical). Regardless of which perspective we take, the critical idea is that 1 is **in** $A$. \n",
    "\n",
    "This is the main idea of the `set`: **membership**. Elements are members of a `set` and a `set` contains elements."
   ]
  },
  {
   "cell_type": "markdown",
   "metadata": {},
   "source": [
    "### Cardinality"
   ]
  },
  {
   "cell_type": "markdown",
   "metadata": {},
   "source": [
    "The number of members of a `set` is called its **cardinality**. Note that in defining the `set A` we listed four values, `a`, `b`, `2.4`, and `c`. But the cardinality of `A` is 3."
   ]
  },
  {
   "cell_type": "code",
   "execution_count": 16,
   "metadata": {},
   "outputs": [
    {
     "data": {
      "text/plain": [
       "3"
      ]
     },
     "execution_count": 16,
     "metadata": {},
     "output_type": "execute_result"
    }
   ],
   "source": [
    "len(A)"
   ]
  },
  {
   "cell_type": "markdown",
   "metadata": {},
   "source": [
    "Recall that `b` has the value `2.4`."
   ]
  },
  {
   "cell_type": "code",
   "execution_count": 17,
   "metadata": {},
   "outputs": [
    {
     "data": {
      "text/plain": [
       "2.4"
      ]
     },
     "execution_count": 17,
     "metadata": {},
     "output_type": "execute_result"
    }
   ],
   "source": [
    "b"
   ]
  },
  {
   "cell_type": "markdown",
   "metadata": {},
   "source": [
    "Thus, in displaying the contents of the set `A`, we note that the repeated value `2.4` (which is also the value associated with `b`) is included but once. An element can only be a member of a set once."
   ]
  },
  {
   "cell_type": "code",
   "execution_count": 18,
   "metadata": {},
   "outputs": [
    {
     "data": {
      "text/plain": [
       "{(3+3j), 1, 2.4}"
      ]
     },
     "execution_count": 18,
     "metadata": {},
     "output_type": "execute_result"
    }
   ],
   "source": [
    "A"
   ]
  },
  {
   "cell_type": "markdown",
   "metadata": {},
   "source": [
    "### Set Equality"
   ]
  },
  {
   "cell_type": "markdown",
   "metadata": {},
   "source": [
    "We can think of sets in terms of their equality"
   ]
  },
  {
   "cell_type": "code",
   "execution_count": 19,
   "metadata": {},
   "outputs": [],
   "source": [
    "B = {1, 1, 1, 2.4, 3+3.0j}"
   ]
  },
  {
   "cell_type": "markdown",
   "metadata": {},
   "source": [
    "We note that even though the definitions of `A` and `B` are different, these two sets are in fact equal."
   ]
  },
  {
   "cell_type": "code",
   "execution_count": 20,
   "metadata": {},
   "outputs": [],
   "source": [
    "assert A == B"
   ]
  },
  {
   "cell_type": "code",
   "execution_count": 21,
   "metadata": {},
   "outputs": [],
   "source": [
    "C = {a, c}"
   ]
  },
  {
   "cell_type": "markdown",
   "metadata": {},
   "source": [
    "`C` is not equal to `A`."
   ]
  },
  {
   "cell_type": "code",
   "execution_count": 22,
   "metadata": {},
   "outputs": [],
   "source": [
    "assert A != C"
   ]
  },
  {
   "cell_type": "markdown",
   "metadata": {},
   "source": [
    "Certainly this is because `C` does not contain the element `2.4`."
   ]
  },
  {
   "cell_type": "code",
   "execution_count": 23,
   "metadata": {},
   "outputs": [],
   "source": [
    "assert b not in C"
   ]
  },
  {
   "cell_type": "markdown",
   "metadata": {},
   "source": [
    "We might make note of the fact that every element in `c` is in `a`"
   ]
  },
  {
   "cell_type": "code",
   "execution_count": 24,
   "metadata": {},
   "outputs": [
    {
     "name": "stdout",
     "output_type": "stream",
     "text": [
      "1 True\n",
      "(3+3j) True\n"
     ]
    }
   ],
   "source": [
    "for element in C:\n",
    "    print(element, element in A)"
   ]
  },
  {
   "cell_type": "markdown",
   "metadata": {},
   "source": [
    "Because every element in `C` is also an element of `A`, we can say that `C` is a subset of `A`."
   ]
  },
  {
   "cell_type": "code",
   "execution_count": 25,
   "metadata": {},
   "outputs": [],
   "source": [
    "assert C.issubset(A)"
   ]
  },
  {
   "cell_type": "markdown",
   "metadata": {},
   "source": [
    "We can also write this as "
   ]
  },
  {
   "cell_type": "code",
   "execution_count": 26,
   "metadata": {},
   "outputs": [],
   "source": [
    "assert C <= A"
   ]
  },
  {
   "cell_type": "markdown",
   "metadata": {},
   "source": [
    "It is useful to note that `a` is a subset of itself"
   ]
  },
  {
   "cell_type": "code",
   "execution_count": 27,
   "metadata": {},
   "outputs": [],
   "source": [
    "assert A <= A"
   ]
  },
  {
   "cell_type": "markdown",
   "metadata": {},
   "source": [
    "This actually leads to a definition of **set equality**. \n",
    "\n",
    "> Two sets are equal to each other if and only if each is a subset of the other."
   ]
  },
  {
   "cell_type": "code",
   "execution_count": 28,
   "metadata": {},
   "outputs": [],
   "source": [
    "assert A <= B\n",
    "assert B <= A"
   ]
  },
  {
   "cell_type": "code",
   "execution_count": 29,
   "metadata": {},
   "outputs": [],
   "source": [
    "def is_equal(set_1, set_2):\n",
    "    if (set_1 <= set_2) and (set_2 <= set_1):\n",
    "        return True\n",
    "    return False"
   ]
  },
  {
   "cell_type": "code",
   "execution_count": 30,
   "metadata": {},
   "outputs": [],
   "source": [
    "assert is_equal(A, B)"
   ]
  },
  {
   "cell_type": "code",
   "execution_count": 31,
   "metadata": {},
   "outputs": [],
   "source": [
    "assert not is_equal(A, C)"
   ]
  },
  {
   "cell_type": "markdown",
   "metadata": {},
   "source": [
    "Another way to say this is that two sets are equal, if and only if they have the exact same members. The only important consideration in their equality is membership."
   ]
  },
  {
   "cell_type": "markdown",
   "metadata": {},
   "source": [
    "## Homogenous Sets\n",
    "\n",
    "The sets we have been using have been of heterogenous type. Both `A` and `B` contain elements of type `int`, `float`, and `complex`. We might be interested in a set that can only contain elements of the same type, a homogenous `set`. We can extend the `set` class in order to create a new compound type called `HomogenousSet`."
   ]
  },
  {
   "cell_type": "markdown",
   "metadata": {},
   "source": [
    "We start by simply extending the `set` class. We will extend the `set` class by defining `HomogenousSet` so that it [inherits](https://docs.python.org/3/tutorial/classes.html#inheritance) from `set`. In Python, this is done with the following syntax:\n",
    "\n",
    "```\n",
    "class DerivedClassName(BaseClassName):\n",
    "    <statement-1>\n",
    "    .\n",
    "    .\n",
    "    .\n",
    "    <statement-N>\n",
    "```"
   ]
  },
  {
   "cell_type": "markdown",
   "metadata": {},
   "source": [
    "Thus, in the following definition, `HomogenousSet` inherits from `set`.\n"
   ]
  },
  {
   "cell_type": "code",
   "execution_count": 32,
   "metadata": {},
   "outputs": [],
   "source": [
    "class HomogenousSet(set):\n",
    "    def __init__(self, *args):\n",
    "        set.__init__(self, *args)"
   ]
  },
  {
   "cell_type": "markdown",
   "metadata": {},
   "source": [
    "The `__init__` (called \"dunder-init\") method is called during the creation of a new object. In other words, when we create a new `HomogenousSet`, the first thing that the new `HomogenousSet` will do is call its own `__init__` function. \n",
    "\n",
    "Because we have inherited from the `set` class, we have all of the `set` class' methods available to use, including its `__init__()` method. We use this in our class definition, so that `HomogenousSet` initializes itself by calling the initialization function of the `set` class. "
   ]
  },
  {
   "cell_type": "code",
   "execution_count": 33,
   "metadata": {},
   "outputs": [],
   "source": [
    "homogenous_set_1 = HomogenousSet((1,2,3))\n",
    "homogenous_set_2 = HomogenousSet((1,2.4,3+3j))"
   ]
  },
  {
   "cell_type": "code",
   "execution_count": 34,
   "metadata": {},
   "outputs": [
    {
     "data": {
      "text/plain": [
       "{1, 2, 3}"
      ]
     },
     "execution_count": 34,
     "metadata": {},
     "output_type": "execute_result"
    }
   ],
   "source": [
    "homogenous_set_1"
   ]
  },
  {
   "cell_type": "code",
   "execution_count": 35,
   "metadata": {},
   "outputs": [
    {
     "data": {
      "text/plain": [
       "{(3+3j), 1, 2.4}"
      ]
     },
     "execution_count": 35,
     "metadata": {},
     "output_type": "execute_result"
    }
   ],
   "source": [
    "homogenous_set_2"
   ]
  },
  {
   "cell_type": "markdown",
   "metadata": {},
   "source": [
    "At this point, `HomogenousSet` behaves exactly as `set` does. In order to add an additional restriction, we must add to the `__init__()` method. The restriction is that all elements must have the same type. This means that we must check the type of each element."
   ]
  },
  {
   "cell_type": "markdown",
   "metadata": {},
   "source": [
    "For `homogenous_set_1`, we print the type of each element and indeed they are all the same."
   ]
  },
  {
   "cell_type": "code",
   "execution_count": 36,
   "metadata": {},
   "outputs": [
    {
     "name": "stdout",
     "output_type": "stream",
     "text": [
      "<class 'int'>\n",
      "<class 'int'>\n",
      "<class 'int'>\n"
     ]
    }
   ],
   "source": [
    "for element in homogenous_set_1:\n",
    "    print(type(element))"
   ]
  },
  {
   "cell_type": "markdown",
   "metadata": {},
   "source": [
    "For `homogenous_set_2`, we print the type of each element, and as expected they are not the same. "
   ]
  },
  {
   "cell_type": "code",
   "execution_count": 37,
   "metadata": {},
   "outputs": [
    {
     "name": "stdout",
     "output_type": "stream",
     "text": [
      "<class 'int'>\n",
      "<class 'float'>\n",
      "<class 'complex'>\n"
     ]
    }
   ],
   "source": [
    "for element in homogenous_set_2:\n",
    "    print(type(element))"
   ]
  },
  {
   "cell_type": "markdown",
   "metadata": {},
   "source": [
    "Next, we add to the loop to verify that the type of each element is the same."
   ]
  },
  {
   "cell_type": "code",
   "execution_count": 38,
   "metadata": {},
   "outputs": [
    {
     "name": "stdout",
     "output_type": "stream",
     "text": [
      "This set is homogenous in type.\n"
     ]
    }
   ],
   "source": [
    "base_type = None\n",
    "\n",
    "for element in homogenous_set_1:\n",
    "    if base_type is None:\n",
    "        base_type = type(element)\n",
    "    elif base_type is not type(element):\n",
    "        print(\"This set is heterogenous in type.\")\n",
    "print(\"This set is homogenous in type.\")        "
   ]
  },
  {
   "cell_type": "code",
   "execution_count": 39,
   "metadata": {},
   "outputs": [
    {
     "name": "stdout",
     "output_type": "stream",
     "text": [
      "This set is heterogenous in type.\n",
      "This set is heterogenous in type.\n",
      "This set is homogenous in type.\n"
     ]
    }
   ],
   "source": [
    "base_type = None\n",
    "\n",
    "for element in homogenous_set_2:\n",
    "    if base_type is None:\n",
    "        base_type = type(element)\n",
    "    elif base_type is not type(element):\n",
    "        print(\"This set is heterogenous in type.\")\n",
    "print(\"This set is homogenous in type.\")        "
   ]
  },
  {
   "cell_type": "markdown",
   "metadata": {},
   "source": [
    "This is not exactly what we want. "
   ]
  },
  {
   "cell_type": "code",
   "execution_count": 40,
   "metadata": {},
   "outputs": [
    {
     "name": "stdout",
     "output_type": "stream",
     "text": [
      "This set is heterogenous in type.\n"
     ]
    }
   ],
   "source": [
    "base_type = None\n",
    "homogenous = True\n",
    "for element in homogenous_set_2:\n",
    "    if base_type is None:\n",
    "        base_type = type(element)\n",
    "    elif base_type is not type(element):\n",
    "        homogenous = False\n",
    "        print(\"This set is heterogenous in type.\")\n",
    "        break\n",
    "if homogenous: print(\"This set is homogenous in type.\")        "
   ]
  },
  {
   "cell_type": "markdown",
   "metadata": {},
   "source": [
    "We can use this logic to create a function, `type_is_homogenous` that does this check. As we are wrapping this in a function, we can simply `return` when we find that the set is heterogenous."
   ]
  },
  {
   "cell_type": "code",
   "execution_count": 42,
   "metadata": {},
   "outputs": [],
   "source": [
    "def type_is_homogenous(defined_set):\n",
    "    base_type = None\n",
    "    \n",
    "    for element in defined_set:\n",
    "        if base_type is None:\n",
    "            base_type = type(element)\n",
    "        elif base_type is not type(element):\n",
    "            return False\n",
    "    return True"
   ]
  },
  {
   "cell_type": "code",
   "execution_count": 43,
   "metadata": {},
   "outputs": [],
   "source": [
    "assert type_is_homogenous(homogenous_set_1)"
   ]
  },
  {
   "cell_type": "code",
   "execution_count": 44,
   "metadata": {},
   "outputs": [],
   "source": [
    "assert not type_is_homogenous(homogenous_set_2)"
   ]
  },
  {
   "cell_type": "markdown",
   "metadata": {},
   "source": [
    "### Add Condition to `HomogenousSet`\n",
    "\n",
    "We can now add this function and use it as a condition check when the initialization function is called. As this is called during the creation of an `HomogenousSet` object, we can not simply `return` a `False`. We actually have to raise an error during the creation. If the new `HomogenousSet` object fails the `type_is_homogenous` check, we will raise a `TypeError` with the message:\n",
    "\n",
    "```\n",
    "\"All elements of the set must have the same type.\"\n",
    "```"
   ]
  },
  {
   "cell_type": "code",
   "execution_count": 45,
   "metadata": {},
   "outputs": [],
   "source": [
    "class HomogenousSet(set):\n",
    "    def __init__(self, *args):\n",
    "        set.__init__(self, *args)\n",
    "        self.type_is_homogenous()\n",
    "                \n",
    "    def type_is_homogenous(self):\n",
    "        base_type = None\n",
    "\n",
    "        for element in self:\n",
    "            if base_type is None:\n",
    "                base_type = type(element)\n",
    "            elif base_type is not type(element):\n",
    "                raise TypeError(\"All elements of the set must have the same type.\")\n"
   ]
  },
  {
   "cell_type": "code",
   "execution_count": 46,
   "metadata": {},
   "outputs": [],
   "source": [
    "homogenous_set_1 = HomogenousSet((1,2,3))"
   ]
  },
  {
   "cell_type": "code",
   "execution_count": 47,
   "metadata": {},
   "outputs": [],
   "source": [
    "homogenous_set_2 = HomogenousSet((1., 2., 10.))"
   ]
  },
  {
   "cell_type": "code",
   "execution_count": 48,
   "metadata": {},
   "outputs": [
    {
     "ename": "TypeError",
     "evalue": "All elements of the set must have the same type.",
     "output_type": "error",
     "traceback": [
      "\u001b[0;31m---------------------------------------------------------------------------\u001b[0m",
      "\u001b[0;31mTypeError\u001b[0m                                 Traceback (most recent call last)",
      "\u001b[0;32m<ipython-input-48-3a98f15c0e07>\u001b[0m in \u001b[0;36m<module>\u001b[0;34m()\u001b[0m\n\u001b[0;32m----> 1\u001b[0;31m \u001b[0mhomogenous_set_3\u001b[0m \u001b[0;34m=\u001b[0m \u001b[0mHomogenousSet\u001b[0m\u001b[0;34m(\u001b[0m\u001b[0;34m(\u001b[0m\u001b[0;36m1\u001b[0m\u001b[0;34m,\u001b[0m\u001b[0;36m2\u001b[0m\u001b[0;34m,\u001b[0m\u001b[0;36m10.\u001b[0m\u001b[0;34m)\u001b[0m\u001b[0;34m)\u001b[0m\u001b[0;34m\u001b[0m\u001b[0m\n\u001b[0m",
      "\u001b[0;32m<ipython-input-45-53f6ae905b0c>\u001b[0m in \u001b[0;36m__init__\u001b[0;34m(self, *args)\u001b[0m\n\u001b[1;32m      2\u001b[0m     \u001b[0;32mdef\u001b[0m \u001b[0m__init__\u001b[0m\u001b[0;34m(\u001b[0m\u001b[0mself\u001b[0m\u001b[0;34m,\u001b[0m \u001b[0;34m*\u001b[0m\u001b[0margs\u001b[0m\u001b[0;34m)\u001b[0m\u001b[0;34m:\u001b[0m\u001b[0;34m\u001b[0m\u001b[0m\n\u001b[1;32m      3\u001b[0m         \u001b[0mset\u001b[0m\u001b[0;34m.\u001b[0m\u001b[0m__init__\u001b[0m\u001b[0;34m(\u001b[0m\u001b[0mself\u001b[0m\u001b[0;34m,\u001b[0m \u001b[0;34m*\u001b[0m\u001b[0margs\u001b[0m\u001b[0;34m)\u001b[0m\u001b[0;34m\u001b[0m\u001b[0m\n\u001b[0;32m----> 4\u001b[0;31m         \u001b[0mself\u001b[0m\u001b[0;34m.\u001b[0m\u001b[0mtype_is_homogenous\u001b[0m\u001b[0;34m(\u001b[0m\u001b[0;34m)\u001b[0m\u001b[0;34m\u001b[0m\u001b[0m\n\u001b[0m\u001b[1;32m      5\u001b[0m \u001b[0;34m\u001b[0m\u001b[0m\n\u001b[1;32m      6\u001b[0m     \u001b[0;32mdef\u001b[0m \u001b[0mtype_is_homogenous\u001b[0m\u001b[0;34m(\u001b[0m\u001b[0mself\u001b[0m\u001b[0;34m)\u001b[0m\u001b[0;34m:\u001b[0m\u001b[0;34m\u001b[0m\u001b[0m\n",
      "\u001b[0;32m<ipython-input-45-53f6ae905b0c>\u001b[0m in \u001b[0;36mtype_is_homogenous\u001b[0;34m(self)\u001b[0m\n\u001b[1;32m     11\u001b[0m                 \u001b[0mbase_type\u001b[0m \u001b[0;34m=\u001b[0m \u001b[0mtype\u001b[0m\u001b[0;34m(\u001b[0m\u001b[0melement\u001b[0m\u001b[0;34m)\u001b[0m\u001b[0;34m\u001b[0m\u001b[0m\n\u001b[1;32m     12\u001b[0m             \u001b[0;32melif\u001b[0m \u001b[0mbase_type\u001b[0m \u001b[0;32mis\u001b[0m \u001b[0;32mnot\u001b[0m \u001b[0mtype\u001b[0m\u001b[0;34m(\u001b[0m\u001b[0melement\u001b[0m\u001b[0;34m)\u001b[0m\u001b[0;34m:\u001b[0m\u001b[0;34m\u001b[0m\u001b[0m\n\u001b[0;32m---> 13\u001b[0;31m                 \u001b[0;32mraise\u001b[0m \u001b[0mTypeError\u001b[0m\u001b[0;34m(\u001b[0m\u001b[0;34m\"All elements of the set must have the same type.\"\u001b[0m\u001b[0;34m)\u001b[0m\u001b[0;34m\u001b[0m\u001b[0m\n\u001b[0m",
      "\u001b[0;31mTypeError\u001b[0m: All elements of the set must have the same type."
     ]
    }
   ],
   "source": [
    "homogenous_set_3 = HomogenousSet((1,2,10.))"
   ]
  },
  {
   "cell_type": "code",
   "execution_count": null,
   "metadata": {},
   "outputs": [],
   "source": []
  }
 ],
 "metadata": {
  "kernelspec": {
   "display_name": "Python 3",
   "language": "python",
   "name": "python3"
  },
  "language_info": {
   "codemirror_mode": {
    "name": "ipython",
    "version": 3
   },
   "file_extension": ".py",
   "mimetype": "text/x-python",
   "name": "python",
   "nbconvert_exporter": "python",
   "pygments_lexer": "ipython3",
   "version": "3.6.5"
  }
 },
 "nbformat": 4,
 "nbformat_minor": 2
}
